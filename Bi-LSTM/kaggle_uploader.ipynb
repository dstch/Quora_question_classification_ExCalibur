{
 "cells": [
  {
   "cell_type": "code",
   "execution_count": null,
   "metadata": {},
   "outputs": [],
   "source": [
    "import tensorflow as tf\n",
    "import gensim\n",
    "import csv"
   ]
  },
  {
   "cell_type": "code",
   "execution_count": null,
   "metadata": {},
   "outputs": [],
   "source": [
    "# parameters config\n",
    "flags = tf.flags\n",
    "FLAGS = flags.FLAGS\n",
    "\n",
    "flags.DEFINE_string(\"train_data_path\", \"../train_data/train.csv\", \"train data path\")\n",
    "flags.DEFINE_string(\"dev_data_path\", \"../train_data/dev.csv\", \"dev data path\")\n",
    "flags.DEFINE_string(\"train_tfrecord_path\", \"../train_data/train_word_id.tf_record\", \"train data path\")\n",
    "flags.DEFINE_string(\"dev_tfrecord_path\", \"../train_data/dev_word_id.tf_record\", \"dev data path\")\n",
    "flags.DEFINE_integer(\"n_hidden\", 128, \"LSTM hidden layer num of features\")\n",
    "flags.DEFINE_integer(\"num_step\", 16, \"input data timesteps\")\n",
    "flags.DEFINE_integer(\"n_classes\", 2, \"number of classes\")\n",
    "flags.DEFINE_float(\"learning_rate\", 0.01, \"learnning rate\")\n",
    "flags.DEFINE_integer(\"batch_size\", 32, \"batch size\")\n",
    "flags.DEFINE_integer(\"max_steps\", 4000, \"max step,stop condition\")\n",
    "flags.DEFINE_integer(\"display_step\", 1000, \"save model steps\")\n",
    "flags.DEFINE_string(\"train_writer_path\", \"./logs/train\", \"train tensorboard save path\")\n",
    "flags.DEFINE_string(\"dev_writer_path\", \"./logs/train\", \"dev tensorboard save path\")\n",
    "flags.DEFINE_string(\"checkpoint_path\", \"./logs/checkpoint\", \"model save path\")\n",
    "# flags.DEFINE_string(\"glove_path\", \"./glove.840B.300d/glove.840B.300d.txt\", \"pre-train embedding model path\")\n",
    "flags.DEFINE_string(\"glove_path\", \"../train_data/vocab.txt\", \"pre-train embedding model path\")\n",
    "flags.DEFINE_integer(\"embedding_dim\", 300, \"word embedding dim\")\n",
    "flags.DEFINE_integer(\"seq_length\", 15, \"sentence max length\")"
   ]
  },
  {
   "cell_type": "code",
   "execution_count": null,
   "metadata": {},
   "outputs": [],
   "source": [
    "# read csv\n",
    "def _read_csv(input_file):\n",
    "    \"\"\"\n",
    "    read csv file,get data\n",
    "    :param input_file:\n",
    "    :return:\n",
    "    \"\"\"\n",
    "    with tf.gfile.Open(input_file, \"r\") as f:\n",
    "        reader = csv.reader(f)\n",
    "        lines = []\n",
    "        for line in reader:\n",
    "            lines.append(line)\n",
    "        return lines[1:]  # remove header"
   ]
  },
  {
   "cell_type": "code",
   "execution_count": null,
   "metadata": {},
   "outputs": [],
   "source": [
    "# change glove to gensim model\n",
    "def build_embedding_model(glove_file, gensim_file):\n",
    "    with open(glove_file, 'r', encoding='utf-8') as f:\n",
    "        num_lines = 0\n",
    "        for line in f:\n",
    "            num_lines += 1\n",
    "    dims = 300\n",
    "    gensim_first_line = \"{} {}\".format(num_lines, dims)\n",
    "    with open(glove_file, 'r', encoding='utf-8') as fin:\n",
    "        with open(gensim_file, 'w', encoding='utf-8') as fout:\n",
    "            fout.write(gensim_first_line + '\\n')\n",
    "            for line in fin:\n",
    "                fout.write(line)\n",
    "\n",
    "# build vocab\n",
    "def build_vocab(model_file, data_file, vocab_path):\n",
    "    # load glove model\n",
    "    model = gensim.models.KeyedVectors.load_word2vec_format(model_file)\n",
    "    lines = _read_csv(data_file)\n",
    "    vocab = []\n",
    "    for line in lines:\n",
    "        vocab.extend(sentence_split(line[1], 0))\n",
    "    vocab = set(vocab)\n",
    "    with open(vocab_path, 'w', encoding='utf-8') as f:\n",
    "        for word in vocab:\n",
    "            if word in model:\n",
    "                f.write(word + ' ' + ' '.join([str(x) for x in model[word]]) + '\\n')\n",
    "build_vocab(gensim_file, data_file, vocab_path)"
   ]
  },
  {
   "cell_type": "code",
   "execution_count": null,
   "metadata": {},
   "outputs": [],
   "source": []
  }
 ],
 "metadata": {
  "kernelspec": {
   "display_name": "Python 3",
   "language": "python",
   "name": "python3"
  },
  "language_info": {
   "codemirror_mode": {
    "name": "ipython",
    "version": 3
   },
   "file_extension": ".py",
   "mimetype": "text/x-python",
   "name": "python",
   "nbconvert_exporter": "python",
   "pygments_lexer": "ipython3",
   "version": "3.6.5"
  }
 },
 "nbformat": 4,
 "nbformat_minor": 2
}
